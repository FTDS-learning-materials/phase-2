{
  "nbformat": 4,
  "nbformat_minor": 0,
  "metadata": {
    "colab": {
      "provenance": []
    },
    "kernelspec": {
      "name": "python3",
      "display_name": "Python 3"
    },
    "language_info": {
      "name": "python"
    },
    "gpuClass": "standard"
  },
  "cells": [
    {
      "cell_type": "markdown",
      "source": [
        "# Phase 2 - Week 1 - Day 3 PM - Natural Language Processing (NLP) - Word2Vec Demo"
      ],
      "metadata": {
        "id": "9kWr08N99U_d"
      }
    },
    {
      "cell_type": "markdown",
      "source": [
        "---\n",
        "## A. Connecting Google Colab with Google Drive"
      ],
      "metadata": {
        "id": "okOLJ8Yl3WDN"
      }
    },
    {
      "cell_type": "code",
      "metadata": {
        "id": "Ks-g5T3z4zwN",
        "outputId": "bff736d1-21e9-4a81-bde8-22ef9b8f401e",
        "colab": {
          "base_uri": "https://localhost:8080/"
        }
      },
      "source": [
        "# Mount Google Drive into Google Colab\n",
        "\n",
        "from google.colab import drive\n",
        "drive.mount('/content/gdrive')"
      ],
      "execution_count": null,
      "outputs": [
        {
          "output_type": "stream",
          "name": "stdout",
          "text": [
            "Mounted at /content/gdrive\n"
          ]
        }
      ]
    },
    {
      "cell_type": "code",
      "metadata": {
        "colab": {
          "base_uri": "https://localhost:8080/"
        },
        "id": "9sz2j8cQ5IeD",
        "outputId": "72082e59-6b8c-448f-b491-e58ab8c5912a"
      },
      "source": [
        "# Change Directory to `My Drive`\n",
        "\n",
        "%cd /content/gdrive/My Drive/"
      ],
      "execution_count": null,
      "outputs": [
        {
          "output_type": "stream",
          "name": "stdout",
          "text": [
            "/content/gdrive/My Drive\n"
          ]
        }
      ]
    },
    {
      "cell_type": "code",
      "source": [
        "# Check Contents of Current Directory\n",
        "\n",
        "!ls"
      ],
      "metadata": {
        "id": "at4vUfbu3Lsb",
        "colab": {
          "base_uri": "https://localhost:8080/"
        },
        "outputId": "83b63c64-5d3d-4dff-ae76-d801cfd23fb7"
      },
      "execution_count": null,
      "outputs": [
        {
          "output_type": "stream",
          "name": "stdout",
          "text": [
            "'Colab Notebooks'   Other   word2vec-model\n",
            "'Meet Recordings'   Temp    word2vec_wikipedia_id\n"
          ]
        }
      ]
    },
    {
      "cell_type": "markdown",
      "source": [
        "As you can see, there is a folder named `word2vec_wikipedia_id` in our current directory. Let's change current directory to this directory."
      ],
      "metadata": {
        "id": "89lbwR_m3_Hp"
      }
    },
    {
      "cell_type": "code",
      "metadata": {
        "colab": {
          "base_uri": "https://localhost:8080/"
        },
        "id": "NDTTb0Yw5M7S",
        "outputId": "9aac81e6-021b-470e-cc03-55f8dedc2f0f"
      },
      "source": [
        "# Change Current Directory into `word2vec_wikipedia_id`\n",
        "\n",
        "%cd word2vec_wikipedia_id/"
      ],
      "execution_count": null,
      "outputs": [
        {
          "output_type": "stream",
          "name": "stdout",
          "text": [
            "/content/gdrive/My Drive/word2vec_wikipedia_id\n"
          ]
        }
      ]
    },
    {
      "cell_type": "code",
      "source": [
        "# Check Contents of Current Directory\n",
        "\n",
        "!ls"
      ],
      "metadata": {
        "colab": {
          "base_uri": "https://localhost:8080/"
        },
        "id": "yhyhpsXp4j7H",
        "outputId": "830e5ef4-fa76-40ab-df34-73accab698d9"
      },
      "execution_count": null,
      "outputs": [
        {
          "output_type": "stream",
          "name": "stdout",
          "text": [
            "word2vec_wikipedia_id.model\n",
            "word2vec_wikipedia_id.model.trainables.syn1neg.npy\n",
            "word2vec_wikipedia_id.model.wv.vectors.npy\n"
          ]
        }
      ]
    },
    {
      "cell_type": "markdown",
      "source": [
        "## B. Train Word2Vec"
      ],
      "metadata": {
        "id": "T5H4s9POSc_A"
      }
    },
    {
      "cell_type": "markdown",
      "source": [
        "**Notes : Do not run or uncomment section B2 and B3 unless you want train with your own version. This is because the processing time is too long.**"
      ],
      "metadata": {
        "id": "m3AcfuOFltsx"
      }
    },
    {
      "cell_type": "markdown",
      "source": [
        "---\n",
        "### B.1. Import Libraries"
      ],
      "metadata": {
        "id": "AR997pvRSntD"
      }
    },
    {
      "cell_type": "code",
      "metadata": {
        "id": "O6evRlJR4WmL"
      },
      "source": [
        "# Import Libraries\n",
        "\n",
        "import sys\n",
        "import multiprocessing\n",
        "import multiprocessing\n",
        "from gensim.models import Word2Vec\n",
        "from gensim.corpora import WikiCorpus\n",
        "from gensim.models.word2vec import LineSentence"
      ],
      "execution_count": null,
      "outputs": []
    },
    {
      "cell_type": "markdown",
      "source": [
        "---\n",
        "### B.2 Download Dataset"
      ],
      "metadata": {
        "id": "q1rqdmCISuSp"
      }
    },
    {
      "cell_type": "code",
      "metadata": {
        "id": "VJgGU9Oz5PtT"
      },
      "source": [
        "# # Download Dataset from Wikipedia\n",
        "\n",
        "# !wget https://dumps.wikimedia.org/idwiki/latest/idwiki-latest-pages-articles.xml.bz2"
      ],
      "execution_count": null,
      "outputs": []
    },
    {
      "cell_type": "code",
      "metadata": {
        "id": "AGby9pYE55q-"
      },
      "source": [
        "# # Create Indexes to Make Processing Time Faster\n",
        "\n",
        "# namaFileInput = \"idwiki-latest-pages-articles.xml.bz2\"\n",
        "# namaFileOutput = \"wiki.id.case.text\"\n",
        "\n",
        "# space = \" \"\n",
        "# i = 0\n",
        "\n",
        "# output = open(namaFileOutput, 'w')\n",
        "\n",
        "# # `lower=False` indicates capital letter and lower letter is different.\n",
        "# wiki = WikiCorpus(namaFileInput, dictionary={}, lower=True)\n",
        "# for text in wiki.get_texts():\n",
        "#     output.write(' '.join(text) + '\\n')\n",
        "#     i = i + 1\n",
        "#     if i % 10000 == 0:\n",
        "#       print(f\"[INFO] Menyimpan {i} artikel\")\n",
        "\n",
        "# output.close()\n",
        "# print(f\"[INFO] Selesai menyimpan {i} artikel\")"
      ],
      "execution_count": null,
      "outputs": []
    },
    {
      "cell_type": "markdown",
      "source": [
        "---\n",
        "### B.3. Model Training"
      ],
      "metadata": {
        "id": "KBYxQbmrmod5"
      }
    },
    {
      "cell_type": "code",
      "metadata": {
        "id": "EQHzrla97SD1"
      },
      "source": [
        "# # Model Training\n",
        "# namaFileInput = \"wiki.id.case.text\"\n",
        "# namaFileOutput = \"word2vec_wikipedia_id.model\"\n",
        "\n",
        "# model = Word2Vec(LineSentence(namaFileInput), size=300, window=5, min_count=5, workers=multiprocessing.cpu_count())\n",
        "\n",
        "# # Trim Unneeded Model's Memory (Use Less RAM)\n",
        "# model.init_sims(replace=True)\n",
        "# model.save(namaFileOutput)"
      ],
      "execution_count": null,
      "outputs": []
    },
    {
      "cell_type": "markdown",
      "source": [
        "---\n",
        "### B.4. Load Model"
      ],
      "metadata": {
        "id": "tyklZlQvmzz5"
      }
    },
    {
      "cell_type": "code",
      "metadata": {
        "id": "s1YIbCh2Wuih"
      },
      "source": [
        "# Load Model\n",
        "\n",
        "model = Word2Vec.load(\"word2vec_wikipedia_id.model\")"
      ],
      "execution_count": null,
      "outputs": []
    },
    {
      "cell_type": "markdown",
      "source": [
        "---\n",
        "### B.5. Time to Play"
      ],
      "metadata": {
        "id": "i400bvU8oR95"
      }
    },
    {
      "cell_type": "code",
      "source": [
        "# Get Similar Token of `honda`\n",
        "\n",
        "model.wv.most_similar('honda')"
      ],
      "metadata": {
        "colab": {
          "base_uri": "https://localhost:8080/"
        },
        "id": "woFUO41U6ba7",
        "outputId": "a11fb55c-49c5-47cc-a61a-00a76aa3858f"
      },
      "execution_count": null,
      "outputs": [
        {
          "output_type": "execute_result",
          "data": {
            "text/plain": [
              "[('yamaha', 0.7266842722892761),\n",
              " ('ducati', 0.6713883280754089),\n",
              " ('toyota', 0.6677179932594299),\n",
              " ('peugeot', 0.6342762112617493),\n",
              " ('daihatsu', 0.6046753525733948),\n",
              " ('nissan', 0.6046150922775269),\n",
              " ('impreza', 0.5994459390640259),\n",
              " ('suzuki', 0.5958170890808105),\n",
              " ('mobilio', 0.5939834713935852),\n",
              " ('repsol', 0.5898582935333252)]"
            ]
          },
          "metadata": {},
          "execution_count": 11
        }
      ]
    },
    {
      "cell_type": "code",
      "source": [
        "# Check Cosine Similarity between Vector `honda` and `yamaha`\n",
        "\n",
        "import numpy as np\n",
        "\n",
        "cos_theta = (model.wv['honda'] @ model.wv['yamaha']) / (np.linalg.norm(model.wv['honda']) * np.linalg.norm(model.wv['yamaha']))\n",
        "cos_theta"
      ],
      "metadata": {
        "colab": {
          "base_uri": "https://localhost:8080/"
        },
        "id": "6lS1REL67IlO",
        "outputId": "c2708b09-626c-46fa-9581-7401d776c650"
      },
      "execution_count": null,
      "outputs": [
        {
          "output_type": "execute_result",
          "data": {
            "text/plain": [
              "0.7266843"
            ]
          },
          "metadata": {},
          "execution_count": 12
        }
      ]
    },
    {
      "cell_type": "code",
      "source": [
        "# Let's See The Contents of Vector of Token `honda`\n",
        "\n",
        "model.wv['honda']"
      ],
      "metadata": {
        "colab": {
          "base_uri": "https://localhost:8080/"
        },
        "id": "13V5wRTQ68aa",
        "outputId": "eb7e56a9-f841-4be9-9d40-67734fca6f97"
      },
      "execution_count": null,
      "outputs": [
        {
          "output_type": "execute_result",
          "data": {
            "text/plain": [
              "array([-2.64853978e+00,  1.32281691e-01, -8.39742839e-01, -7.05314279e-01,\n",
              "        1.67498422e+00,  1.24566805e+00,  5.07839084e-01,  1.12601054e+00,\n",
              "       -6.76555097e-01,  4.13881034e-01, -4.96812075e-01, -3.81453395e-01,\n",
              "       -9.19490159e-01,  2.89448649e-02, -1.23345292e+00,  1.37873545e-01,\n",
              "       -2.62883127e-01, -5.06269634e-01,  2.17022359e-01, -2.15815854e+00,\n",
              "        1.48650801e+00,  1.01866579e+00, -7.63830602e-01,  1.56776860e-01,\n",
              "       -1.80632606e-01, -1.40584111e+00,  1.61616623e+00, -9.81522441e-01,\n",
              "        2.19996572e+00,  1.03403199e+00,  8.49313676e-01, -3.03732336e-01,\n",
              "       -2.35155559e+00, -9.72887635e-01, -3.67933297e+00,  1.84159085e-01,\n",
              "       -1.60265326e+00, -1.23045325e+00,  6.09150203e-03, -9.26025331e-01,\n",
              "       -6.35317937e-02,  5.77883422e-01, -7.31342673e-01,  6.03878379e-01,\n",
              "       -1.22144245e-01, -2.36967102e-01, -1.48471725e+00, -3.33126259e+00,\n",
              "        3.46193522e-01, -5.90111196e-01, -1.85083187e+00,  6.68047309e-01,\n",
              "        1.79755962e+00, -3.75560284e-01,  2.26344180e+00,  1.01431000e+00,\n",
              "        1.38573539e+00, -5.10279834e-01,  1.33113766e+00, -2.54202008e+00,\n",
              "       -2.36577749e+00,  2.32507333e-01,  1.40810025e+00,  1.31810236e+00,\n",
              "       -4.70140874e-01,  8.92919123e-01,  2.42332292e+00,  1.58481514e+00,\n",
              "        4.00203228e-01, -1.00256836e+00,  1.80880904e+00, -1.95590162e+00,\n",
              "        2.60602856e+00, -1.06599677e+00,  2.01314735e+00, -2.50177360e+00,\n",
              "        6.15396202e-01, -3.29073399e-01, -1.01319718e+00, -1.54467344e+00,\n",
              "        1.19222379e+00,  7.92670131e-01,  1.28635764e+00, -3.28244448e-01,\n",
              "       -1.83378410e+00, -6.03308320e-01,  3.53434920e-01,  4.87762660e-01,\n",
              "       -2.02359056e+00,  1.91255140e+00,  3.52773279e-01, -2.92181581e-01,\n",
              "        1.69426298e+00, -9.36251879e-01,  1.08528018e+00, -7.07850695e-01,\n",
              "        3.51295428e-04, -2.15341592e+00,  1.18449581e+00, -4.50944662e-01,\n",
              "        2.47663188e+00, -1.07126355e+00,  9.47887972e-02, -6.09081686e-01,\n",
              "        2.87118363e+00,  2.42578697e+00, -6.10428512e-01,  1.23973417e+00,\n",
              "        6.75224066e-02,  1.59989655e+00,  2.00521684e+00, -3.09627354e-01,\n",
              "        1.47529900e+00,  9.29086924e-01,  4.04499508e-02,  1.80941987e+00,\n",
              "       -2.35568738e+00, -1.90001261e+00,  1.92410624e+00, -2.23792458e+00,\n",
              "        2.93986201e-01,  1.13677728e+00, -1.65717459e+00,  6.23330511e-02,\n",
              "        5.81622422e-01,  8.35109472e-01,  2.89290810e+00,  1.26707244e+00,\n",
              "        2.55311895e-02,  1.59968257e-01, -2.60964513e-01,  2.65176392e+00,\n",
              "        1.20122409e+00,  1.79154289e+00,  3.28875732e+00, -1.79835737e-01,\n",
              "       -8.79873633e-01,  2.25218582e+00,  2.32159185e+00, -1.62429786e+00,\n",
              "        1.66066325e+00,  1.59405947e+00, -1.42238843e+00,  3.07887292e+00,\n",
              "       -1.30678201e+00, -1.20567310e+00,  6.96447864e-02,  1.89705621e-02,\n",
              "        1.26531994e+00, -1.74319506e+00, -4.65014696e-01,  8.77027307e-03,\n",
              "        8.40707958e-01, -1.48094392e+00,  1.09347022e+00, -3.36520635e-02,\n",
              "       -2.02961016e+00, -1.63818464e-01,  6.01366222e-01,  1.29069293e+00,\n",
              "       -4.32501554e-01,  2.10026592e-01,  6.57231688e-01, -2.45260790e-01,\n",
              "       -7.78108776e-01,  2.09767604e+00,  4.14599746e-01, -7.74793923e-01,\n",
              "       -6.84902489e-01, -5.25124490e-01, -1.56832755e+00, -2.64513016e-01,\n",
              "       -1.31209826e+00,  1.77440739e+00,  1.10519373e+00,  7.65027821e-01,\n",
              "        7.28207052e-01, -4.20165122e-01, -2.63882279e-01, -8.04722726e-01,\n",
              "       -5.86724579e-01,  5.72358787e-01, -2.72466153e-01, -5.22301383e-02,\n",
              "        4.10666227e-01, -2.73172808e+00,  6.17823720e-01, -2.30810165e+00,\n",
              "        3.14468056e-01,  9.65913117e-01, -8.94696057e-01,  8.82358924e-02,\n",
              "       -3.55962008e-01, -9.66717720e-01, -3.97451341e-01,  5.85965097e-01,\n",
              "       -9.24517930e-01, -2.36223316e+00, -2.29267836e+00, -7.44769871e-01,\n",
              "        3.81887734e-01, -8.92756581e-01,  8.58451501e-02,  4.77478147e-01,\n",
              "       -2.54026145e-01, -6.38073981e-01,  2.13949299e+00, -2.39289212e+00,\n",
              "        1.21775174e+00, -3.51806551e-01,  2.87615085e+00,  6.55202031e-01,\n",
              "        7.53269315e-01, -1.25673616e+00, -3.78736347e-01, -1.79760897e+00,\n",
              "        1.82168260e-01, -1.29377019e+00, -9.73688997e-03,  4.75341290e-01,\n",
              "        2.02558160e+00,  1.04304814e+00, -7.33893871e-01,  8.16675127e-01,\n",
              "       -7.85459399e-01, -7.37504065e-02,  8.57928455e-01,  4.72369581e-01,\n",
              "       -2.92596245e+00, -3.74176204e-01,  2.52596080e-01,  1.50348854e+00,\n",
              "       -3.72026026e-01, -7.35050082e-01, -9.97313187e-02, -1.07125735e+00,\n",
              "        9.34105039e-01, -4.22465861e-01, -2.54713821e+00, -6.04282796e-01,\n",
              "       -2.73943806e+00, -5.49161136e-01,  9.46343243e-01, -1.41922760e+00,\n",
              "       -1.21232131e-02, -1.21033955e+00, -8.28691244e-01, -3.47668737e-01,\n",
              "        3.08322161e-01,  9.08605337e-01, -6.31295025e-01,  8.11294913e-01,\n",
              "       -1.58778444e-01,  3.33822906e-01, -1.18212080e+00,  8.55302155e-01,\n",
              "       -2.33922884e-01, -2.40863132e+00, -4.06826228e-01,  9.21581864e-01,\n",
              "       -3.58263761e-01, -2.46838641e+00,  5.90405881e-01,  1.05207935e-01,\n",
              "       -1.56957120e-01,  1.58999354e-01,  1.35260117e+00,  1.46744275e+00,\n",
              "       -7.16035962e-01, -2.63836622e+00,  8.69147062e-01, -6.43640637e-01,\n",
              "        5.92094243e-01,  1.48071378e-01, -1.18391109e+00, -2.08059639e-01,\n",
              "        2.53236264e-01,  7.63574958e-01,  7.19899952e-01,  3.99002910e-01,\n",
              "       -2.33509302e+00, -2.39743859e-01, -1.30961859e+00,  1.74958849e+00,\n",
              "       -5.54521918e-01, -1.40739369e+00, -2.48207498e+00, -1.54675031e+00,\n",
              "        1.00732076e+00, -1.04042375e+00,  2.31635213e+00,  1.21825051e+00,\n",
              "       -6.65970564e-01,  1.37891209e+00,  4.30641063e-02, -4.22543019e-01,\n",
              "        7.28773475e-01, -6.48608446e-01, -6.87073320e-02,  9.26026881e-01],\n",
              "      dtype=float32)"
            ]
          },
          "metadata": {},
          "execution_count": 13
        }
      ]
    },
    {
      "cell_type": "code",
      "source": [
        "# Check Shape of Vector `honda`\n",
        "\n",
        "model.wv['honda'].shape"
      ],
      "metadata": {
        "colab": {
          "base_uri": "https://localhost:8080/"
        },
        "id": "PKzxsJZdoEiN",
        "outputId": "eaed5f78-58c8-400b-fed6-eeb6b6b65493"
      },
      "execution_count": null,
      "outputs": [
        {
          "output_type": "execute_result",
          "data": {
            "text/plain": [
              "(300,)"
            ]
          },
          "metadata": {},
          "execution_count": 14
        }
      ]
    },
    {
      "cell_type": "code",
      "metadata": {
        "colab": {
          "base_uri": "https://localhost:8080/"
        },
        "id": "H8jFS4uep53Z",
        "outputId": "a1a11527-970c-449f-8327-a7a9a89ece2c"
      },
      "source": [
        "# Get Top 5 Similar Token of `presiden`\n",
        "\n",
        "model.wv.similar_by_word(\"presiden\", topn=5)"
      ],
      "execution_count": null,
      "outputs": [
        {
          "output_type": "execute_result",
          "data": {
            "text/plain": [
              "[('presidennya', 0.6667125225067139),\n",
              " ('wapres', 0.6601781249046326),\n",
              " ('kepresidenan', 0.6310103535652161),\n",
              " ('menlu', 0.5578266978263855),\n",
              " ('president', 0.5535454154014587)]"
            ]
          },
          "metadata": {},
          "execution_count": 15
        }
      ]
    },
    {
      "cell_type": "markdown",
      "source": [
        "---\n",
        "### B.6. Visualization Vectors in 2D"
      ],
      "metadata": {
        "id": "wnYRE2bToX13"
      }
    },
    {
      "cell_type": "markdown",
      "source": [
        "Let's create visualization of vectors to see their similarities in 2D plot."
      ],
      "metadata": {
        "id": "uVjIHtpgoeFo"
      }
    },
    {
      "cell_type": "code",
      "metadata": {
        "id": "NbJdL2Wyq7ND"
      },
      "source": [
        "# Import Libraries\n",
        "\n",
        "import pandas as pd\n",
        "import seaborn as sns\n",
        "from sklearn.decomposition import PCA"
      ],
      "execution_count": null,
      "outputs": []
    },
    {
      "cell_type": "code",
      "metadata": {
        "id": "1oQSlNERrLTg"
      },
      "source": [
        "# Define the Tokens\n",
        "\n",
        "words = [\"pepaya\", \"pisang\", \"apel\", \"samsung\", \"apple\", \"ayam\", \"bebek\"]\n",
        "word_vector = []\n",
        "for w in words:\n",
        "  word_vector.append(model.wv[w])"
      ],
      "execution_count": null,
      "outputs": []
    },
    {
      "cell_type": "code",
      "metadata": {
        "id": "3Yp82PiKrkW_",
        "colab": {
          "base_uri": "https://localhost:8080/",
          "height": 269
        },
        "outputId": "1ff1c85a-89fd-4a04-ce31-bfd3b64f6a2f"
      },
      "source": [
        "# Reduce The Dimensions using PCA\n",
        "\n",
        "pca = PCA(n_components=2)\n",
        "word_red = pca.fit_transform(word_vector)\n",
        "word_red = pd.DataFrame(word_red)\n",
        "word_red['label'] = words\n",
        "word_red"
      ],
      "execution_count": null,
      "outputs": [
        {
          "output_type": "execute_result",
          "data": {
            "text/plain": [
              "           0         1    label\n",
              "0  -2.707756  4.376945   pepaya\n",
              "1  -5.560086  6.904433   pisang\n",
              "2  -1.230609  8.256100     apel\n",
              "3  11.079570 -2.629896  samsung\n",
              "4  14.408538 -1.989229    apple\n",
              "5 -10.669966 -7.259429     ayam\n",
              "6  -5.319691 -7.658925    bebek"
            ],
            "text/html": [
              "\n",
              "  <div id=\"df-ad300510-9aca-46a8-ab9f-2ae63713ada3\" class=\"colab-df-container\">\n",
              "    <div>\n",
              "<style scoped>\n",
              "    .dataframe tbody tr th:only-of-type {\n",
              "        vertical-align: middle;\n",
              "    }\n",
              "\n",
              "    .dataframe tbody tr th {\n",
              "        vertical-align: top;\n",
              "    }\n",
              "\n",
              "    .dataframe thead th {\n",
              "        text-align: right;\n",
              "    }\n",
              "</style>\n",
              "<table border=\"1\" class=\"dataframe\">\n",
              "  <thead>\n",
              "    <tr style=\"text-align: right;\">\n",
              "      <th></th>\n",
              "      <th>0</th>\n",
              "      <th>1</th>\n",
              "      <th>label</th>\n",
              "    </tr>\n",
              "  </thead>\n",
              "  <tbody>\n",
              "    <tr>\n",
              "      <th>0</th>\n",
              "      <td>-2.707756</td>\n",
              "      <td>4.376945</td>\n",
              "      <td>pepaya</td>\n",
              "    </tr>\n",
              "    <tr>\n",
              "      <th>1</th>\n",
              "      <td>-5.560086</td>\n",
              "      <td>6.904433</td>\n",
              "      <td>pisang</td>\n",
              "    </tr>\n",
              "    <tr>\n",
              "      <th>2</th>\n",
              "      <td>-1.230609</td>\n",
              "      <td>8.256100</td>\n",
              "      <td>apel</td>\n",
              "    </tr>\n",
              "    <tr>\n",
              "      <th>3</th>\n",
              "      <td>11.079570</td>\n",
              "      <td>-2.629896</td>\n",
              "      <td>samsung</td>\n",
              "    </tr>\n",
              "    <tr>\n",
              "      <th>4</th>\n",
              "      <td>14.408538</td>\n",
              "      <td>-1.989229</td>\n",
              "      <td>apple</td>\n",
              "    </tr>\n",
              "    <tr>\n",
              "      <th>5</th>\n",
              "      <td>-10.669966</td>\n",
              "      <td>-7.259429</td>\n",
              "      <td>ayam</td>\n",
              "    </tr>\n",
              "    <tr>\n",
              "      <th>6</th>\n",
              "      <td>-5.319691</td>\n",
              "      <td>-7.658925</td>\n",
              "      <td>bebek</td>\n",
              "    </tr>\n",
              "  </tbody>\n",
              "</table>\n",
              "</div>\n",
              "    <div class=\"colab-df-buttons\">\n",
              "\n",
              "  <div class=\"colab-df-container\">\n",
              "    <button class=\"colab-df-convert\" onclick=\"convertToInteractive('df-ad300510-9aca-46a8-ab9f-2ae63713ada3')\"\n",
              "            title=\"Convert this dataframe to an interactive table.\"\n",
              "            style=\"display:none;\">\n",
              "\n",
              "  <svg xmlns=\"http://www.w3.org/2000/svg\" height=\"24px\" viewBox=\"0 -960 960 960\">\n",
              "    <path d=\"M120-120v-720h720v720H120Zm60-500h600v-160H180v160Zm220 220h160v-160H400v160Zm0 220h160v-160H400v160ZM180-400h160v-160H180v160Zm440 0h160v-160H620v160ZM180-180h160v-160H180v160Zm440 0h160v-160H620v160Z\"/>\n",
              "  </svg>\n",
              "    </button>\n",
              "\n",
              "  <style>\n",
              "    .colab-df-container {\n",
              "      display:flex;\n",
              "      gap: 12px;\n",
              "    }\n",
              "\n",
              "    .colab-df-convert {\n",
              "      background-color: #E8F0FE;\n",
              "      border: none;\n",
              "      border-radius: 50%;\n",
              "      cursor: pointer;\n",
              "      display: none;\n",
              "      fill: #1967D2;\n",
              "      height: 32px;\n",
              "      padding: 0 0 0 0;\n",
              "      width: 32px;\n",
              "    }\n",
              "\n",
              "    .colab-df-convert:hover {\n",
              "      background-color: #E2EBFA;\n",
              "      box-shadow: 0px 1px 2px rgba(60, 64, 67, 0.3), 0px 1px 3px 1px rgba(60, 64, 67, 0.15);\n",
              "      fill: #174EA6;\n",
              "    }\n",
              "\n",
              "    .colab-df-buttons div {\n",
              "      margin-bottom: 4px;\n",
              "    }\n",
              "\n",
              "    [theme=dark] .colab-df-convert {\n",
              "      background-color: #3B4455;\n",
              "      fill: #D2E3FC;\n",
              "    }\n",
              "\n",
              "    [theme=dark] .colab-df-convert:hover {\n",
              "      background-color: #434B5C;\n",
              "      box-shadow: 0px 1px 3px 1px rgba(0, 0, 0, 0.15);\n",
              "      filter: drop-shadow(0px 1px 2px rgba(0, 0, 0, 0.3));\n",
              "      fill: #FFFFFF;\n",
              "    }\n",
              "  </style>\n",
              "\n",
              "    <script>\n",
              "      const buttonEl =\n",
              "        document.querySelector('#df-ad300510-9aca-46a8-ab9f-2ae63713ada3 button.colab-df-convert');\n",
              "      buttonEl.style.display =\n",
              "        google.colab.kernel.accessAllowed ? 'block' : 'none';\n",
              "\n",
              "      async function convertToInteractive(key) {\n",
              "        const element = document.querySelector('#df-ad300510-9aca-46a8-ab9f-2ae63713ada3');\n",
              "        const dataTable =\n",
              "          await google.colab.kernel.invokeFunction('convertToInteractive',\n",
              "                                                    [key], {});\n",
              "        if (!dataTable) return;\n",
              "\n",
              "        const docLinkHtml = 'Like what you see? Visit the ' +\n",
              "          '<a target=\"_blank\" href=https://colab.research.google.com/notebooks/data_table.ipynb>data table notebook</a>'\n",
              "          + ' to learn more about interactive tables.';\n",
              "        element.innerHTML = '';\n",
              "        dataTable['output_type'] = 'display_data';\n",
              "        await google.colab.output.renderOutput(dataTable, element);\n",
              "        const docLink = document.createElement('div');\n",
              "        docLink.innerHTML = docLinkHtml;\n",
              "        element.appendChild(docLink);\n",
              "      }\n",
              "    </script>\n",
              "  </div>\n",
              "\n",
              "\n",
              "<div id=\"df-93d0f977-e16f-4562-9380-2208b7ee6408\">\n",
              "  <button class=\"colab-df-quickchart\" onclick=\"quickchart('df-93d0f977-e16f-4562-9380-2208b7ee6408')\"\n",
              "            title=\"Suggest charts.\"\n",
              "            style=\"display:none;\">\n",
              "\n",
              "<svg xmlns=\"http://www.w3.org/2000/svg\" height=\"24px\"viewBox=\"0 0 24 24\"\n",
              "     width=\"24px\">\n",
              "    <g>\n",
              "        <path d=\"M19 3H5c-1.1 0-2 .9-2 2v14c0 1.1.9 2 2 2h14c1.1 0 2-.9 2-2V5c0-1.1-.9-2-2-2zM9 17H7v-7h2v7zm4 0h-2V7h2v10zm4 0h-2v-4h2v4z\"/>\n",
              "    </g>\n",
              "</svg>\n",
              "  </button>\n",
              "\n",
              "<style>\n",
              "  .colab-df-quickchart {\n",
              "      --bg-color: #E8F0FE;\n",
              "      --fill-color: #1967D2;\n",
              "      --hover-bg-color: #E2EBFA;\n",
              "      --hover-fill-color: #174EA6;\n",
              "      --disabled-fill-color: #AAA;\n",
              "      --disabled-bg-color: #DDD;\n",
              "  }\n",
              "\n",
              "  [theme=dark] .colab-df-quickchart {\n",
              "      --bg-color: #3B4455;\n",
              "      --fill-color: #D2E3FC;\n",
              "      --hover-bg-color: #434B5C;\n",
              "      --hover-fill-color: #FFFFFF;\n",
              "      --disabled-bg-color: #3B4455;\n",
              "      --disabled-fill-color: #666;\n",
              "  }\n",
              "\n",
              "  .colab-df-quickchart {\n",
              "    background-color: var(--bg-color);\n",
              "    border: none;\n",
              "    border-radius: 50%;\n",
              "    cursor: pointer;\n",
              "    display: none;\n",
              "    fill: var(--fill-color);\n",
              "    height: 32px;\n",
              "    padding: 0;\n",
              "    width: 32px;\n",
              "  }\n",
              "\n",
              "  .colab-df-quickchart:hover {\n",
              "    background-color: var(--hover-bg-color);\n",
              "    box-shadow: 0 1px 2px rgba(60, 64, 67, 0.3), 0 1px 3px 1px rgba(60, 64, 67, 0.15);\n",
              "    fill: var(--button-hover-fill-color);\n",
              "  }\n",
              "\n",
              "  .colab-df-quickchart-complete:disabled,\n",
              "  .colab-df-quickchart-complete:disabled:hover {\n",
              "    background-color: var(--disabled-bg-color);\n",
              "    fill: var(--disabled-fill-color);\n",
              "    box-shadow: none;\n",
              "  }\n",
              "\n",
              "  .colab-df-spinner {\n",
              "    border: 2px solid var(--fill-color);\n",
              "    border-color: transparent;\n",
              "    border-bottom-color: var(--fill-color);\n",
              "    animation:\n",
              "      spin 1s steps(1) infinite;\n",
              "  }\n",
              "\n",
              "  @keyframes spin {\n",
              "    0% {\n",
              "      border-color: transparent;\n",
              "      border-bottom-color: var(--fill-color);\n",
              "      border-left-color: var(--fill-color);\n",
              "    }\n",
              "    20% {\n",
              "      border-color: transparent;\n",
              "      border-left-color: var(--fill-color);\n",
              "      border-top-color: var(--fill-color);\n",
              "    }\n",
              "    30% {\n",
              "      border-color: transparent;\n",
              "      border-left-color: var(--fill-color);\n",
              "      border-top-color: var(--fill-color);\n",
              "      border-right-color: var(--fill-color);\n",
              "    }\n",
              "    40% {\n",
              "      border-color: transparent;\n",
              "      border-right-color: var(--fill-color);\n",
              "      border-top-color: var(--fill-color);\n",
              "    }\n",
              "    60% {\n",
              "      border-color: transparent;\n",
              "      border-right-color: var(--fill-color);\n",
              "    }\n",
              "    80% {\n",
              "      border-color: transparent;\n",
              "      border-right-color: var(--fill-color);\n",
              "      border-bottom-color: var(--fill-color);\n",
              "    }\n",
              "    90% {\n",
              "      border-color: transparent;\n",
              "      border-bottom-color: var(--fill-color);\n",
              "    }\n",
              "  }\n",
              "</style>\n",
              "\n",
              "  <script>\n",
              "    async function quickchart(key) {\n",
              "      const quickchartButtonEl =\n",
              "        document.querySelector('#' + key + ' button');\n",
              "      quickchartButtonEl.disabled = true;  // To prevent multiple clicks.\n",
              "      quickchartButtonEl.classList.add('colab-df-spinner');\n",
              "      try {\n",
              "        const charts = await google.colab.kernel.invokeFunction(\n",
              "            'suggestCharts', [key], {});\n",
              "      } catch (error) {\n",
              "        console.error('Error during call to suggestCharts:', error);\n",
              "      }\n",
              "      quickchartButtonEl.classList.remove('colab-df-spinner');\n",
              "      quickchartButtonEl.classList.add('colab-df-quickchart-complete');\n",
              "    }\n",
              "    (() => {\n",
              "      let quickchartButtonEl =\n",
              "        document.querySelector('#df-93d0f977-e16f-4562-9380-2208b7ee6408 button');\n",
              "      quickchartButtonEl.style.display =\n",
              "        google.colab.kernel.accessAllowed ? 'block' : 'none';\n",
              "    })();\n",
              "  </script>\n",
              "</div>\n",
              "    </div>\n",
              "  </div>\n"
            ]
          },
          "metadata": {},
          "execution_count": 18
        }
      ]
    },
    {
      "cell_type": "code",
      "metadata": {
        "colab": {
          "base_uri": "https://localhost:8080/",
          "height": 704
        },
        "id": "5H-CNzGqrzpY",
        "outputId": "d89616df-b5d3-487d-80ce-08be29824f17"
      },
      "source": [
        "# Visualiza the Vectors\n",
        "\n",
        "sns.set(rc = {'figure.figsize':(15,8)})\n",
        "sns.scatterplot(data=word_red, x=0, y=1, hue='label', s=200);"
      ],
      "execution_count": null,
      "outputs": [
        {
          "output_type": "display_data",
          "data": {
            "text/plain": [
              "<Figure size 1500x800 with 1 Axes>"
            ],
            "image/png": "[encoded data removed]"
          },
          "metadata": {}
        }
      ]
    }
  ]
}
{
  "cells": [
    {
      "cell_type": "markdown",
      "metadata": {
        "id": "v6SP4dSODyP0"
      },
      "source": [
        "# Phase 2 - Week 3 - Day 3 PM - ETL"
      ]
    },
    {
      "cell_type": "markdown",
      "metadata": {
        "id": "q7GMcfx8EBFs"
      },
      "source": [
        "## A. Setup Database in MongoDB"
      ]
    },
    {
      "cell_type": "code",
      "execution_count": null,
      "metadata": {
        "colab": {
          "base_uri": "https://localhost:8080/",
          "height": 70
        },
        "id": "PLJSgx_uDuWE",
        "outputId": "a65c25e3-edac-406c-aedc-18762746ff9a"
      },
      "outputs": [
        {
          "data": {
            "text/plain": [
              "'4.12.0'"
            ]
          },
          "execution_count": 1,
          "metadata": {},
          "output_type": "execute_result"
        }
      ],
      "source": [
        "# Install package pymongo\n",
        "\n",
        "# !pip install -q pymongo\n",
        "\n",
        "import pymongo\n",
        "pymongo.__version__"
      ]
    },
    {
      "cell_type": "code",
      "execution_count": null,
      "metadata": {
        "colab": {
          "base_uri": "https://localhost:8080/"
        },
        "id": "0m_Lh5pZEFAA",
        "outputId": "3858b93b-0138-4e3b-dba0-4159ba3d65f6"
      },
      "outputs": [
        {
          "name": "stdout",
          "output_type": "stream",
          "text": [
            "36.70.15.52\n"
          ]
        },
        {
          "name": "stderr",
          "output_type": "stream",
          "text": [
            "  % Total    % Received % Xferd  Average Speed   Time    Time     Time  Current\n",
            "                                 Dload  Upload   Total   Spent    Left  Speed\n",
            "\n",
            "  0     0    0     0    0     0      0      0 --:--:-- --:--:-- --:--:--     0\n",
            "  0     0    0     0    0     0      0      0 --:--:-- --:--:-- --:--:--     0\n",
            "100    11  100    11    0     0     36      0 --:--:-- --:--:-- --:--:--    36\n"
          ]
        }
      ],
      "source": [
        "# Get current IP Adress\n",
        "\n",
        "!curl ipecho.net/plain"
      ]
    },
    {
      "cell_type": "code",
      "execution_count": null,
      "metadata": {
        "id": "FjcawH6fEJu0"
      },
      "outputs": [],
      "source": [
        "# Define URI\n",
        "\n",
        "URI = 'YOUR-URI'"
      ]
    },
    {
      "cell_type": "code",
      "execution_count": null,
      "metadata": {
        "colab": {
          "base_uri": "https://localhost:8080/"
        },
        "id": "kMaGXmlcEKar",
        "outputId": "2a7701e3-bcc3-4cef-9cf1-e12f90c2f0f8"
      },
      "outputs": [
        {
          "name": "stdout",
          "output_type": "stream",
          "text": [
            "Connected successfully\n"
          ]
        }
      ],
      "source": [
        "# Test connection\n",
        "\n",
        "client = pymongo.MongoClient(URI, server_api=pymongo.server_api.ServerApi(version=\"1\", strict=True, deprecation_errors=True))\n",
        "\n",
        "try:\n",
        "  client.admin.command(\"ping\")\n",
        "  print(\"Connected successfully\")\n",
        "\n",
        "except Exception as e:\n",
        "  raise Exception(\"The following error occurred: \", e)"
      ]
    },
    {
      "cell_type": "code",
      "execution_count": null,
      "metadata": {
        "colab": {
          "base_uri": "https://localhost:8080/"
        },
        "id": "dwyQGAHIYwWq",
        "outputId": "69f1fc24-8071-42ea-ff12-743c6d20a4a9"
      },
      "outputs": [
        {
          "data": {
            "text/plain": [
              "['my_store', 'admin', 'local']"
            ]
          },
          "execution_count": 5,
          "metadata": {},
          "output_type": "execute_result"
        }
      ],
      "source": [
        "# Get all databases\n",
        "\n",
        "client.list_database_names()"
      ]
    },
    {
      "cell_type": "code",
      "execution_count": null,
      "metadata": {
        "id": "1egvb7bMYxeb"
      },
      "outputs": [],
      "source": [
        "# Create a new database\n",
        "\n",
        "db_socmed = client['social_media']"
      ]
    },
    {
      "cell_type": "code",
      "execution_count": null,
      "metadata": {
        "id": "91nsCn7yY4-J"
      },
      "outputs": [],
      "source": [
        "# Create a new collection\n",
        "\n",
        "coll_raw_data = db_socmed['raw_data']"
      ]
    },
    {
      "cell_type": "markdown",
      "metadata": {
        "id": "2jyqyjiGtRX7"
      },
      "source": [
        "## B. Insert into MongoDB"
      ]
    },
    {
      "cell_type": "code",
      "execution_count": null,
      "metadata": {
        "colab": {
          "base_uri": "https://localhost:8080/"
        },
        "id": "c-CzI-gFs8LE",
        "outputId": "aeaffd21-2acd-465d-851f-b2e612b5f310"
      },
      "outputs": [
        {
          "name": "stdout",
          "output_type": "stream",
          "text": [
            "[{'conn_info': {'browser': 'Mozilla',\n",
            "                'platform': 'iPhone',\n",
            "                'status_code': 200,\n",
            "                'token': '229a6669'},\n",
            "  'destination_id': '0',\n",
            "  'message_text': 'BIG SALE ALERT! Diskon hingga 50% untuk semua produk kami, '\n",
            "                  'hanya sampai hari Minggu ini! Buruan, sebelum kehabisan! '\n",
            "                  '#Promo #DiskonGede #Sale',\n",
            "  'origin_id': 'admin_1',\n",
            "  'post_id': 'ER3020',\n",
            "  'post_time': '16/02/2025, 06:28:12',\n",
            "  'post_type': 'post'},\n",
            " {'conn_info': {'browser': 'Safari',\n",
            "                'platform': 'Macintosh',\n",
            "                'status_code': 200,\n",
            "                'token': '03f2395f'},\n",
            "  'destination_id': '0',\n",
            "  'message_text': 'BIG SALE ALERT! Diskon hingga 50% untuk semua produk kami, '\n",
            "                  'hanya sampai hari Minggu ini! Buruan, sebelum kehabisan! '\n",
            "                  '#Promo #DiskonGede #Sale',\n",
            "  'origin_id': 'admin_3',\n",
            "  'post_id': 'HT1988',\n",
            "  'post_time': '16/02/2025, 07:34:18',\n",
            "  'post_type': 'post'},\n",
            " {'conn_info': {'browser': 'Chrome',\n",
            "                'platform': 'Android',\n",
            "                'status_code': 200,\n",
            "                'token': '229a6669'},\n",
            "  'destination_id': '0',\n",
            "  'message_text': 'Last Day Promo! Ini hari terakhir buat nikmati potongan '\n",
            "                  'harga spesial dari kami! Kapan lagi belanja murah kayak '\n",
            "                  'gini? Cek sekarang di #LastChance #PromoAkhir',\n",
            "  'origin_id': 'admin_2',\n",
            "  'post_id': 'ZG9610',\n",
            "  'post_time': '16/02/2025, 08:07:59',\n",
            "  'post_type': 'post'},\n",
            " {'conn_info': {'browser': 'Edge',\n",
            "                'platform': 'Windows',\n",
            "                'status_code': 200,\n",
            "                'token': '03f2395f'},\n",
            "  'destination_id': '0',\n",
            "  'message_text': 'Last Day Promo! Ini hari terakhir buat nikmati potongan '\n",
            "                  'harga spesial dari kami! Kapan lagi belanja murah kayak '\n",
            "                  'gini? Cek sekarang di #LastChance #PromoAkhir',\n",
            "  'origin_id': 'admin_2',\n",
            "  'post_id': 'XL4964',\n",
            "  'post_time': '16/02/2025, 10:18:11',\n",
            "  'post_type': 'post'},\n",
            " {'conn_info': {'browser': 'Mozilla',\n",
            "                'platform': 'Android',\n",
            "                'status_code': 200,\n",
            "                'token': '229a6669'},\n",
            "  'destination_id': '0',\n",
            "  'message_text': 'Hari ini aja: Buy 1 Get 1 Free! Pilih produk favoritmu, dan '\n",
            "                  'dapetin bonusnya! Stok terbatas, siapa cepat dia dapat '\n",
            "                  '#BOGO #PromoHariIni #BelanjaCerdas',\n",
            "  'origin_id': 'admin_2',\n",
            "  'post_id': 'OB6749',\n",
            "  'post_time': '16/02/2025, 12:51:48',\n",
            "  'post_type': 'post'},\n",
            " {'conn_info': {'browser': 'Edge',\n",
            "                'platform': 'iPhone',\n",
            "                'status_code': 200,\n",
            "                'token': '03f2395f'},\n",
            "  'destination_id': 'admin_1',\n",
            "  'message_text': 'Adminnya cepet banget balesnya, love it! Semoga makin '\n",
            "                  'sukses dan makin sering kasih promo hahahaha',\n",
            "  'origin_id': 'user_6',\n",
            "  'post_id': 'FB8114',\n",
            "  'post_time': '16/02/2025, 13:02:44',\n",
            "  'post_type': 'mention'},\n",
            " {'conn_info': {'browser': 'Edge',\n",
            "                'platform': 'Macintosh',\n",
            "                'status_code': 200,\n",
            "                'token': '03f2395f'},\n",
            "  'destination_id': 'admin_1',\n",
            "  'message_text': 'Halo! Aku udah coba masukin kode promo tapi gak bisa '\n",
            "                  'dipakai. Apakah ada minimal pembelian tertentu?',\n",
            "  'origin_id': 'user_7',\n",
            "  'post_id': 'CW2495',\n",
            "  'post_time': '16/02/2025, 13:03:02',\n",
            "  'post_type': 'mention'},\n",
            " {'conn_info': {'browser': 'Mozilla',\n",
            "                'platform': 'Linux',\n",
            "                'status_code': 200,\n",
            "                'token': '03f2395f'},\n",
            "  'destination_id': '0',\n",
            "  'message_text': 'Kode Voucher Khusus Kamu! Gunakan kode TWIT50 untuk '\n",
            "                  'potongan 50rb minimal belanja 200rb. Hanya berlaku 24 jam! '\n",
            "                  '#VoucherDiskon #PromoSpesial',\n",
            "  'origin_id': 'admin_2',\n",
            "  'post_id': 'HF9367',\n",
            "  'post_time': '16/02/2025, 13:56:50',\n",
            "  'post_type': 'post'},\n",
            " {'conn_info': {'browser': 'Safari',\n",
            "                'platform': 'iPhone',\n",
            "                'status_code': 200,\n",
            "                'token': '21b7c13c'},\n",
            "  'destination_id': '0',\n",
            "  'message_text': 'Surprise di depan pintu kamu! Hari ini ada promo FREE '\n",
            "                  'SHIPPING NATIONWIDE! Tanpa minimum belanja, tanpa kode. '\n",
            "                  'Cukup checkout sekarang #GratisOngkir #LangsungCheckout',\n",
            "  'origin_id': 'admin_1',\n",
            "  'post_id': 'KQ8613',\n",
            "  'post_time': '16/02/2025, 14:18:27',\n",
            "  'post_type': 'post'},\n",
            " {'conn_info': {'browser': 'Safari',\n",
            "                'platform': 'Linux',\n",
            "                'status_code': 200,\n",
            "                'token': '4eededee'},\n",
            "  'destination_id': 'admin_2',\n",
            "  'message_text': 'Admin, tiap liat postingan kalian tuh dompet langsung '\n",
            "                  'deg-degan hehe Tapi ya tetep checkout sih ',\n",
            "  'origin_id': 'user_1',\n",
            "  'post_id': 'MO2272',\n",
            "  'post_time': '16/02/2025, 15:03:35',\n",
            "  'post_type': 'mention'},\n",
            " {'conn_info': {'browser': 'Mozilla',\n",
            "                'platform': 'Macintosh',\n",
            "                'status_code': 200,\n",
            "                'token': '229a6669'},\n",
            "  'destination_id': 'admin_1',\n",
            "  'message_text': 'Halo, pesanan saya salah warna. Udah kirim email juga, '\n",
            "                  'mohon bantuannya ya. Thanks sebelumnya',\n",
            "  'origin_id': 'user_5',\n",
            "  'post_id': 'RV0992',\n",
            "  'post_time': '16/02/2025, 15:26:16',\n",
            "  'post_type': 'mention'},\n",
            " {'conn_info': {'browser': 'Edge',\n",
            "                'platform': 'Windows',\n",
            "                'status_code': 200,\n",
            "                'token': '21b7c13c'},\n",
            "  'destination_id': '0',\n",
            "  'message_text': 'Diskon Khusus Followers! Khusus kamu yang follow akun ini, '\n",
            "                  'dapatkan diskon 20%! Ketik \"FOLLOW20\" pas checkout ya '\n",
            "                  '#PromoFollower #DiskonKhusus',\n",
            "  'origin_id': 'admin_2',\n",
            "  'post_id': 'XT4124',\n",
            "  'post_time': '16/02/2025, 15:36:16',\n",
            "  'post_type': 'post'},\n",
            " {'conn_info': {'browser': 'Edge',\n",
            "                'platform': 'Android',\n",
            "                'status_code': 200,\n",
            "                'token': '03f2395f'},\n",
            "  'destination_id': 'admin_1',\n",
            "  'message_text': 'Makasih banyak! Barangnya udah sampai dan bagus banget... '\n",
            "                  'Service-nya juga oke!',\n",
            "  'origin_id': 'user_3',\n",
            "  'post_id': 'YG7720',\n",
            "  'post_time': '16/02/2025, 15:48:39',\n",
            "  'post_type': 'mention'},\n",
            " {'conn_info': {'browser': 'Chrome',\n",
            "                'platform': 'Macintosh',\n",
            "                'status_code': 200,\n",
            "                'token': '4eededee'},\n",
            "  'destination_id': 'admin_1',\n",
            "  'message_text': 'Maaf ya, ini udah 3 hari pesanan saya belum dikirim padahal '\n",
            "                  'statusnya udah paid. Bisa dibantu dicek?',\n",
            "  'origin_id': 'user_7',\n",
            "  'post_id': 'YS3016',\n",
            "  'post_time': '16/02/2025, 17:26:16',\n",
            "  'post_type': 'mention'},\n",
            " {'conn_info': {'browser': 'Chrome',\n",
            "                'platform': 'iPhone',\n",
            "                'status_code': 200,\n",
            "                'token': '03f2395f'},\n",
            "  'destination_id': 'admin_3',\n",
            "  'message_text': 'Chat CS-nya gak dibales-bales dari tadi pagi. Gimana saya '\n",
            "                  'mau klaim garansinya?Jujur kecewa, paket saya rusak padahal '\n",
            "                  'nunggu lama. Bisa minta penjelasan?Sudah ikuti semua syarat '\n",
            "                  'giveaway tapi nama saya gak muncul di pengumuman. Tolong '\n",
            "                  'dicek dongUdah dua kali salah kirim warna. Apa gak dicek '\n",
            "                  'dulu sebelum dikirim ya, Min?',\n",
            "  'origin_id': 'user_5',\n",
            "  'post_id': 'RI6926',\n",
            "  'post_time': '16/02/2025, 17:29:05',\n",
            "  'post_type': 'mention'},\n",
            " {'conn_info': {'browser': 'Safari',\n",
            "                'platform': 'iPhone',\n",
            "                'status_code': 200,\n",
            "                'token': '03f2395f'},\n",
            "  'destination_id': '0',\n",
            "  'message_text': 'Hari ini aja: Buy 1 Get 1 Free! Pilih produk favoritmu, dan '\n",
            "                  'dapetin bonusnya! Stok terbatas, siapa cepat dia dapat '\n",
            "                  '#BOGO #PromoHariIni #BelanjaCerdas',\n",
            "  'origin_id': 'admin_3',\n",
            "  'post_id': 'TW4546',\n",
            "  'post_time': '16/02/2025, 18:41:17',\n",
            "  'post_type': 'post'},\n",
            " {'conn_info': {'browser': 'Chrome',\n",
            "                'platform': 'Linux',\n",
            "                'status_code': 200,\n",
            "                'token': '03f2395f'},\n",
            "  'destination_id': '0',\n",
            "  'message_text': 'Diskon Khusus Followers! Khusus kamu yang follow akun ini, '\n",
            "                  'dapatkan diskon 20%! Ketik \"FOLLOW20\" pas checkout ya '\n",
            "                  '#PromoFollower #DiskonKhusus',\n",
            "  'origin_id': 'admin_1',\n",
            "  'post_id': 'XW9249',\n",
            "  'post_time': '16/02/2025, 19:25:25',\n",
            "  'post_type': 'post'},\n",
            " {'conn_info': {'browser': 'Safari',\n",
            "                'platform': 'Macintosh',\n",
            "                'status_code': 200,\n",
            "                'token': '21b7c13c'},\n",
            "  'destination_id': 'admin_1',\n",
            "  'message_text': 'Adminnya cepet banget balesnya, love it! Semoga makin '\n",
            "                  'sukses dan makin sering kasih promo hahahaha',\n",
            "  'origin_id': 'user_8',\n",
            "  'post_id': 'GC2361',\n",
            "  'post_time': '16/02/2025, 20:53:54',\n",
            "  'post_type': 'mention'},\n",
            " {'conn_info': {'browser': 'Mozilla',\n",
            "                'platform': 'Linux',\n",
            "                'status_code': 200,\n",
            "                'token': '03f2395f'},\n",
            "  'destination_id': 'admin_3',\n",
            "  'message_text': 'Admin, tiap liat postingan kalian tuh dompet langsung '\n",
            "                  'deg-degan hehe Tapi ya tetep checkout sih ',\n",
            "  'origin_id': 'user_1',\n",
            "  'post_id': 'OH0426',\n",
            "  'post_time': '16/02/2025, 21:00:21',\n",
            "  'post_type': 'mention'},\n",
            " {'conn_info': {'browser': 'Chrome',\n",
            "                'platform': 'Macintosh',\n",
            "                'status_code': 200,\n",
            "                'token': '03f2395f'},\n",
            "  'destination_id': '0',\n",
            "  'message_text': 'Midnight Sale Mulai Jam 9 Malam! Potongan harga hingga 70% '\n",
            "                  'cuma sampe jam 12 malam nanti! Jangan tidur dulu, belanja '\n",
            "                  'dulu #MidnightSale #PromoSpesial',\n",
            "  'origin_id': 'admin_3',\n",
            "  'post_id': 'RA9356',\n",
            "  'post_time': '16/02/2025, 21:32:46',\n",
            "  'post_type': 'post'}]\n"
          ]
        }
      ],
      "source": [
        "# Load dataset\n",
        "\n",
        "import json\n",
        "from pprint import pprint\n",
        "\n",
        "with open('raw_data.json', 'r') as f:\n",
        "    all_data = json.load(f)\n",
        "\n",
        "pprint(all_data)"
      ]
    },
    {
      "cell_type": "code",
      "execution_count": null,
      "metadata": {
        "colab": {
          "base_uri": "https://localhost:8080/"
        },
        "id": "LsFpI4nmtdgn",
        "outputId": "c0b43de1-b1f0-4ebe-e20f-be83cae3834d"
      },
      "outputs": [
        {
          "data": {
            "text/plain": [
              "InsertManyResult([ObjectId('67fbdc09b33ebaf1a928555b'), ObjectId('67fbdc09b33ebaf1a928555c'), ObjectId('67fbdc09b33ebaf1a928555d'), ObjectId('67fbdc09b33ebaf1a928555e'), ObjectId('67fbdc09b33ebaf1a928555f'), ObjectId('67fbdc09b33ebaf1a9285560'), ObjectId('67fbdc09b33ebaf1a9285561'), ObjectId('67fbdc09b33ebaf1a9285562'), ObjectId('67fbdc09b33ebaf1a9285563'), ObjectId('67fbdc09b33ebaf1a9285564'), ObjectId('67fbdc09b33ebaf1a9285565'), ObjectId('67fbdc09b33ebaf1a9285566'), ObjectId('67fbdc09b33ebaf1a9285567'), ObjectId('67fbdc09b33ebaf1a9285568'), ObjectId('67fbdc09b33ebaf1a9285569'), ObjectId('67fbdc09b33ebaf1a928556a'), ObjectId('67fbdc09b33ebaf1a928556b'), ObjectId('67fbdc09b33ebaf1a928556c'), ObjectId('67fbdc09b33ebaf1a928556d'), ObjectId('67fbdc09b33ebaf1a928556e')], acknowledged=True)"
            ]
          },
          "execution_count": 12,
          "metadata": {},
          "output_type": "execute_result"
        }
      ],
      "source": [
        "# Insert raw data into a MongoDB Collection\n",
        "\n",
        "coll_raw_data.insert_many(all_data)"
      ]
    },
    {
      "cell_type": "markdown",
      "metadata": {
        "id": "GaVy3Q4Zt9qG"
      },
      "source": [
        "## C. Create Database and Table"
      ]
    },
    {
      "cell_type": "markdown",
      "metadata": {
        "id": "Y6ZnXmVaA4ms"
      },
      "source": [
        "### C.1 - Setup"
      ]
    },
    {
      "cell_type": "markdown",
      "metadata": {
        "id": "u-75jOx1A4ms"
      },
      "source": [
        "First, you need to create a database named `social_media`. You can do this using the SQL syntax below, or manually by right-clicking on your server and selecting `Create` and then click `Database`.\n",
        "\n",
        "```sql\n",
        "CREATE DATABASE social_media;\n",
        "```"
      ]
    },
    {
      "cell_type": "code",
      "execution_count": null,
      "metadata": {
        "id": "1dthEAdeA4ms"
      },
      "outputs": [],
      "source": [
        "# Import library\n",
        "\n",
        "import pandas as pd\n",
        "import psycopg2"
      ]
    },
    {
      "cell_type": "code",
      "execution_count": null,
      "metadata": {
        "id": "D3PZiIZUA4ms"
      },
      "outputs": [],
      "source": [
        "# Create connection to PostgreSQL\n",
        "conn = psycopg2.connect(\n",
        "    dbname=\"social_media\",\n",
        "    user=\"\",\n",
        "    password=\"\",\n",
        "    host=\"localhost\",\n",
        "    port=\"5432\"\n",
        ")\n",
        "cur = conn.cursor()"
      ]
    },
    {
      "cell_type": "markdown",
      "metadata": {
        "id": "AvdET9s7A4mt"
      },
      "source": [
        "### C.2 - Table `interaction`"
      ]
    },
    {
      "cell_type": "markdown",
      "metadata": {
        "id": "ixYle6-iudEJ"
      },
      "source": [
        "Create a table named `interaction` that shows statistics on the number of interactions each user has with an admin. Sort the results from highest to lowest based on the number of interactions. Example table format:\n",
        "\n",
        "| origin_id | destination_id | total_interaction |\n",
        "| --- | --- | --- |\n",
        "| user_1 | admin_3 | 3 |\n",
        "| user_1 | admin_2 | 3 |\n",
        "| user_2 | admin_3 | 1 |"
      ]
    },
    {
      "cell_type": "markdown",
      "metadata": {
        "id": "G_QshsSFA4mt"
      },
      "source": [
        "Based on the available data, every post that involves interaction between a user and an admin has a `post_type = 'mention'`. On the other hand, posts with a `post_type = 'post'` are made by admins without any interaction, as indicated by `destination_id = 0`."
      ]
    },
    {
      "cell_type": "code",
      "execution_count": null,
      "metadata": {
        "colab": {
          "base_uri": "https://localhost:8080/"
        },
        "id": "dLgV1DZW4FH-",
        "outputId": "3cece6d0-0a87-413e-86a5-b75492b3e357"
      },
      "outputs": [
        {
          "data": {
            "text/plain": [
              "[{'origin_id': 'user_6', 'destination_id': 'admin_1'},\n",
              " {'origin_id': 'user_7', 'destination_id': 'admin_1'},\n",
              " {'origin_id': 'user_1', 'destination_id': 'admin_2'},\n",
              " {'origin_id': 'user_5', 'destination_id': 'admin_1'},\n",
              " {'origin_id': 'user_3', 'destination_id': 'admin_1'},\n",
              " {'origin_id': 'user_7', 'destination_id': 'admin_1'},\n",
              " {'origin_id': 'user_5', 'destination_id': 'admin_3'},\n",
              " {'origin_id': 'user_8', 'destination_id': 'admin_1'},\n",
              " {'origin_id': 'user_1', 'destination_id': 'admin_3'}]"
            ]
          },
          "execution_count": 15,
          "metadata": {},
          "output_type": "execute_result"
        }
      ],
      "source": [
        "# Step 1 : Extract (Find multiple documents from MongoDB collection)\n",
        "\n",
        "results = coll_raw_data.find(\n",
        "    {'post_type': 'mention'},\n",
        "    {'_id': 0, 'origin_id': 1, 'destination_id': 1})\n",
        "\n",
        "results = list(results)\n",
        "results"
      ]
    },
    {
      "cell_type": "code",
      "execution_count": null,
      "metadata": {
        "colab": {
          "base_uri": "https://localhost:8080/",
          "height": 300
        },
        "id": "jw_tqs4X6M8r",
        "outputId": "7dd17138-c95d-4d94-9b59-411b562a8735"
      },
      "outputs": [
        {
          "data": {
            "text/html": [
              "<div>\n",
              "<style scoped>\n",
              "    .dataframe tbody tr th:only-of-type {\n",
              "        vertical-align: middle;\n",
              "    }\n",
              "\n",
              "    .dataframe tbody tr th {\n",
              "        vertical-align: top;\n",
              "    }\n",
              "\n",
              "    .dataframe thead th {\n",
              "        text-align: right;\n",
              "    }\n",
              "</style>\n",
              "<table border=\"1\" class=\"dataframe\">\n",
              "  <thead>\n",
              "    <tr style=\"text-align: right;\">\n",
              "      <th></th>\n",
              "      <th>origin_id</th>\n",
              "      <th>destination_id</th>\n",
              "      <th>total_interaction</th>\n",
              "    </tr>\n",
              "  </thead>\n",
              "  <tbody>\n",
              "    <tr>\n",
              "      <th>0</th>\n",
              "      <td>user_7</td>\n",
              "      <td>admin_1</td>\n",
              "      <td>2</td>\n",
              "    </tr>\n",
              "    <tr>\n",
              "      <th>1</th>\n",
              "      <td>user_1</td>\n",
              "      <td>admin_2</td>\n",
              "      <td>1</td>\n",
              "    </tr>\n",
              "    <tr>\n",
              "      <th>2</th>\n",
              "      <td>user_1</td>\n",
              "      <td>admin_3</td>\n",
              "      <td>1</td>\n",
              "    </tr>\n",
              "    <tr>\n",
              "      <th>3</th>\n",
              "      <td>user_3</td>\n",
              "      <td>admin_1</td>\n",
              "      <td>1</td>\n",
              "    </tr>\n",
              "    <tr>\n",
              "      <th>4</th>\n",
              "      <td>user_5</td>\n",
              "      <td>admin_1</td>\n",
              "      <td>1</td>\n",
              "    </tr>\n",
              "    <tr>\n",
              "      <th>5</th>\n",
              "      <td>user_5</td>\n",
              "      <td>admin_3</td>\n",
              "      <td>1</td>\n",
              "    </tr>\n",
              "    <tr>\n",
              "      <th>6</th>\n",
              "      <td>user_6</td>\n",
              "      <td>admin_1</td>\n",
              "      <td>1</td>\n",
              "    </tr>\n",
              "    <tr>\n",
              "      <th>7</th>\n",
              "      <td>user_8</td>\n",
              "      <td>admin_1</td>\n",
              "      <td>1</td>\n",
              "    </tr>\n",
              "  </tbody>\n",
              "</table>\n",
              "</div>"
            ],
            "text/plain": [
              "  origin_id destination_id  total_interaction\n",
              "0    user_7        admin_1                  2\n",
              "1    user_1        admin_2                  1\n",
              "2    user_1        admin_3                  1\n",
              "3    user_3        admin_1                  1\n",
              "4    user_5        admin_1                  1\n",
              "5    user_5        admin_3                  1\n",
              "6    user_6        admin_1                  1\n",
              "7    user_8        admin_1                  1"
            ]
          },
          "execution_count": 16,
          "metadata": {},
          "output_type": "execute_result"
        }
      ],
      "source": [
        "# Step 2 : Transform (Count the number of interactions based on `origin_id`` and `destination_id`)\n",
        "\n",
        "df = pd.DataFrame(results)\n",
        "interaction_df = (\n",
        "    df.groupby(['origin_id', 'destination_id'])\n",
        "      .size()\n",
        "      .reset_index(name='total_interaction')\n",
        "      .sort_values(by='total_interaction', ascending=False)\n",
        "      .reset_index(drop=True)\n",
        ")\n",
        "interaction_df"
      ]
    },
    {
      "cell_type": "code",
      "execution_count": null,
      "metadata": {
        "colab": {
          "base_uri": "https://localhost:8080/",
          "height": 366
        },
        "id": "SjaNk--ouoeS",
        "outputId": "f540363f-8ac5-4d1c-9325-894c3470256e"
      },
      "outputs": [
        {
          "name": "stdout",
          "output_type": "stream",
          "text": [
            "Insert data - row :  0\n",
            "Insert data - row :  1\n",
            "Insert data - row :  2\n",
            "Insert data - row :  3\n",
            "Insert data - row :  4\n",
            "Insert data - row :  5\n",
            "Insert data - row :  6\n",
            "Insert data - row :  7\n"
          ]
        }
      ],
      "source": [
        "# Step 3 : Load (Create table `interaction` and insert the data)\n",
        "\n",
        "## Create table `interaction`\n",
        "cur.execute(\"\"\"\n",
        "    CREATE TABLE IF NOT EXISTS interaction (\n",
        "        origin_id VARCHAR(10),\n",
        "        destination_id VARCHAR(10),\n",
        "        total_interaction INTEGER\n",
        "    );\n",
        "\"\"\")\n",
        "\n",
        "## Insert the data\n",
        "for index, row in interaction_df.iterrows():\n",
        "    print('Insert data - row : ', index)\n",
        "    cur.execute(\n",
        "        \"\"\"\n",
        "        INSERT INTO interaction (origin_id, destination_id, total_interaction)\n",
        "        VALUES (%s, %s, %s);\n",
        "        \"\"\",\n",
        "        (row['origin_id'], row['destination_id'], int(row['total_interaction'])))\n",
        "\n",
        "conn.commit()"
      ]
    },
    {
      "cell_type": "markdown",
      "metadata": {
        "id": "S9NFppicA4mt"
      },
      "source": [
        "### C.3 - Table `admin_first_message`"
      ]
    },
    {
      "cell_type": "markdown",
      "metadata": {
        "id": "81q6pgwiA4mt"
      },
      "source": [
        "Create a table named `admin_first_message` that contains the first post made by each admin. Sort the results by admin name (`origin_id`). Example table format:\n",
        "\n",
        "| post_id | post_time | origin_id | message_text |\n",
        "| --- | --- | --- | --- |\n",
        "| XX1113 | '16/02/2025, 10:19:44' | admin_1 | Text |\n",
        "| XX1112 | '16/02/2025, 08:44:21' | admin_2 | Text |\n",
        "| XX1111 | '16/02/2025, 09:12:00' | admin_3 | Text |"
      ]
    },
    {
      "cell_type": "code",
      "execution_count": null,
      "metadata": {
        "id": "gZkZuHB0A4mt",
        "outputId": "ce90ee0a-08e9-4e0d-e0e1-7e0d15cce214"
      },
      "outputs": [
        {
          "data": {
            "text/plain": [
              "[{'post_id': 'ER3020',\n",
              "  'post_time': '16/02/2025, 06:28:12',\n",
              "  'origin_id': 'admin_1',\n",
              "  'message_text': 'BIG SALE ALERT! Diskon hingga 50% untuk semua produk kami, hanya sampai hari Minggu ini! Buruan, sebelum kehabisan! #Promo #DiskonGede #Sale'},\n",
              " {'post_id': 'HT1988',\n",
              "  'post_time': '16/02/2025, 07:34:18',\n",
              "  'origin_id': 'admin_3',\n",
              "  'message_text': 'BIG SALE ALERT! Diskon hingga 50% untuk semua produk kami, hanya sampai hari Minggu ini! Buruan, sebelum kehabisan! #Promo #DiskonGede #Sale'},\n",
              " {'post_id': 'ZG9610',\n",
              "  'post_time': '16/02/2025, 08:07:59',\n",
              "  'origin_id': 'admin_2',\n",
              "  'message_text': 'Last Day Promo! Ini hari terakhir buat nikmati potongan harga spesial dari kami! Kapan lagi belanja murah kayak gini? Cek sekarang di #LastChance #PromoAkhir'},\n",
              " {'post_id': 'XL4964',\n",
              "  'post_time': '16/02/2025, 10:18:11',\n",
              "  'origin_id': 'admin_2',\n",
              "  'message_text': 'Last Day Promo! Ini hari terakhir buat nikmati potongan harga spesial dari kami! Kapan lagi belanja murah kayak gini? Cek sekarang di #LastChance #PromoAkhir'},\n",
              " {'post_id': 'OB6749',\n",
              "  'post_time': '16/02/2025, 12:51:48',\n",
              "  'origin_id': 'admin_2',\n",
              "  'message_text': 'Hari ini aja: Buy 1 Get 1 Free! Pilih produk favoritmu, dan dapetin bonusnya! Stok terbatas, siapa cepat dia dapat #BOGO #PromoHariIni #BelanjaCerdas'},\n",
              " {'post_id': 'HF9367',\n",
              "  'post_time': '16/02/2025, 13:56:50',\n",
              "  'origin_id': 'admin_2',\n",
              "  'message_text': 'Kode Voucher Khusus Kamu! Gunakan kode TWIT50 untuk potongan 50rb minimal belanja 200rb. Hanya berlaku 24 jam! #VoucherDiskon #PromoSpesial'},\n",
              " {'post_id': 'KQ8613',\n",
              "  'post_time': '16/02/2025, 14:18:27',\n",
              "  'origin_id': 'admin_1',\n",
              "  'message_text': 'Surprise di depan pintu kamu! Hari ini ada promo FREE SHIPPING NATIONWIDE! Tanpa minimum belanja, tanpa kode. Cukup checkout sekarang #GratisOngkir #LangsungCheckout'},\n",
              " {'post_id': 'XT4124',\n",
              "  'post_time': '16/02/2025, 15:36:16',\n",
              "  'origin_id': 'admin_2',\n",
              "  'message_text': 'Diskon Khusus Followers! Khusus kamu yang follow akun ini, dapatkan diskon 20%! Ketik \"FOLLOW20\" pas checkout ya #PromoFollower #DiskonKhusus'},\n",
              " {'post_id': 'TW4546',\n",
              "  'post_time': '16/02/2025, 18:41:17',\n",
              "  'origin_id': 'admin_3',\n",
              "  'message_text': 'Hari ini aja: Buy 1 Get 1 Free! Pilih produk favoritmu, dan dapetin bonusnya! Stok terbatas, siapa cepat dia dapat #BOGO #PromoHariIni #BelanjaCerdas'},\n",
              " {'post_id': 'XW9249',\n",
              "  'post_time': '16/02/2025, 19:25:25',\n",
              "  'origin_id': 'admin_1',\n",
              "  'message_text': 'Diskon Khusus Followers! Khusus kamu yang follow akun ini, dapatkan diskon 20%! Ketik \"FOLLOW20\" pas checkout ya #PromoFollower #DiskonKhusus'},\n",
              " {'post_id': 'RA9356',\n",
              "  'post_time': '16/02/2025, 21:32:46',\n",
              "  'origin_id': 'admin_3',\n",
              "  'message_text': 'Midnight Sale Mulai Jam 9 Malam! Potongan harga hingga 70% cuma sampe jam 12 malam nanti! Jangan tidur dulu, belanja dulu #MidnightSale #PromoSpesial'}]"
            ]
          },
          "execution_count": 18,
          "metadata": {},
          "output_type": "execute_result"
        }
      ],
      "source": [
        "# Step 1 : Extract (Find all posts from all admins)\n",
        "\n",
        "results = coll_raw_data.find(\n",
        "    {'post_type': 'post'},\n",
        "    {'_id': 0, 'post_id':1, 'post_time':1, 'origin_id': 1, 'message_text': 1})\n",
        "\n",
        "results = list(results)\n",
        "results"
      ]
    },
    {
      "cell_type": "code",
      "execution_count": null,
      "metadata": {
        "id": "_yCCQsz-A4mu",
        "outputId": "177d826f-1922-445d-ee44-192870a0781f"
      },
      "outputs": [
        {
          "data": {
            "text/html": [
              "<div>\n",
              "<style scoped>\n",
              "    .dataframe tbody tr th:only-of-type {\n",
              "        vertical-align: middle;\n",
              "    }\n",
              "\n",
              "    .dataframe tbody tr th {\n",
              "        vertical-align: top;\n",
              "    }\n",
              "\n",
              "    .dataframe thead th {\n",
              "        text-align: right;\n",
              "    }\n",
              "</style>\n",
              "<table border=\"1\" class=\"dataframe\">\n",
              "  <thead>\n",
              "    <tr style=\"text-align: right;\">\n",
              "      <th></th>\n",
              "      <th>origin_id</th>\n",
              "      <th>post_id</th>\n",
              "      <th>post_time</th>\n",
              "      <th>message_text</th>\n",
              "    </tr>\n",
              "  </thead>\n",
              "  <tbody>\n",
              "    <tr>\n",
              "      <th>0</th>\n",
              "      <td>admin_1</td>\n",
              "      <td>ER3020</td>\n",
              "      <td>2025-02-16 06:28:12</td>\n",
              "      <td>BIG SALE ALERT! Diskon hingga 50% untuk semua ...</td>\n",
              "    </tr>\n",
              "    <tr>\n",
              "      <th>1</th>\n",
              "      <td>admin_2</td>\n",
              "      <td>ZG9610</td>\n",
              "      <td>2025-02-16 08:07:59</td>\n",
              "      <td>Last Day Promo! Ini hari terakhir buat nikmati...</td>\n",
              "    </tr>\n",
              "    <tr>\n",
              "      <th>2</th>\n",
              "      <td>admin_3</td>\n",
              "      <td>HT1988</td>\n",
              "      <td>2025-02-16 07:34:18</td>\n",
              "      <td>BIG SALE ALERT! Diskon hingga 50% untuk semua ...</td>\n",
              "    </tr>\n",
              "  </tbody>\n",
              "</table>\n",
              "</div>"
            ],
            "text/plain": [
              "  origin_id post_id           post_time  \\\n",
              "0   admin_1  ER3020 2025-02-16 06:28:12   \n",
              "1   admin_2  ZG9610 2025-02-16 08:07:59   \n",
              "2   admin_3  HT1988 2025-02-16 07:34:18   \n",
              "\n",
              "                                        message_text  \n",
              "0  BIG SALE ALERT! Diskon hingga 50% untuk semua ...  \n",
              "1  Last Day Promo! Ini hari terakhir buat nikmati...  \n",
              "2  BIG SALE ALERT! Diskon hingga 50% untuk semua ...  "
            ]
          },
          "execution_count": 19,
          "metadata": {},
          "output_type": "execute_result"
        }
      ],
      "source": [
        "# Step 2 : Transform (Take the first post from each admin then sort by admin name)\n",
        "\n",
        "## Change the `post_time` column data type to datetime so that it can be sorted\n",
        "admin_df = pd.DataFrame(results)\n",
        "admin_df['post_time'] = pd.to_datetime(admin_df['post_time'], format='%d/%m/%Y, %H:%M:%S')\n",
        "\n",
        "## Get first post per admin based on time\n",
        "admin_first_posts_df = (\n",
        "    admin_df.sort_values(by='post_time')\n",
        "               .groupby('origin_id', as_index=False)\n",
        "               .first()\n",
        "               .sort_values(by='origin_id')\n",
        "               .reset_index(drop=True)\n",
        ")\n",
        "admin_first_posts_df"
      ]
    },
    {
      "cell_type": "code",
      "execution_count": null,
      "metadata": {
        "id": "WA7_QHvJA4mu",
        "outputId": "4de66e7e-a02e-49e9-ce58-8e0ff3e301ee"
      },
      "outputs": [
        {
          "name": "stdout",
          "output_type": "stream",
          "text": [
            "Insert data - row :  0\n",
            "Insert data - row :  1\n",
            "Insert data - row :  2\n"
          ]
        }
      ],
      "source": [
        "# Step 3 : Load (Create table `admin_first_message` and insert the data)\n",
        "\n",
        "## Create table `admin_first_message`\n",
        "cur.execute(\"\"\"\n",
        "    CREATE TABLE IF NOT EXISTS admin_first_message (\n",
        "        post_id VARCHAR(6),\n",
        "        post_time TIMESTAMP,\n",
        "        origin_id VARCHAR(10),\n",
        "        message_text TEXT\n",
        "    );\n",
        "\"\"\")\n",
        "\n",
        "## Insert the data\n",
        "for index, row in admin_first_posts_df.iterrows():\n",
        "    print('Insert data - row : ', index)\n",
        "    cur.execute(\n",
        "        \"\"\"\n",
        "        INSERT INTO admin_first_message (post_id, post_time, origin_id, message_text)\n",
        "        VALUES (%s, %s, %s, %s);\n",
        "        \"\"\",\n",
        "        (row['post_id'], row['post_time'], row['origin_id'], row['message_text']))\n",
        "\n",
        "conn.commit()"
      ]
    },
    {
      "cell_type": "markdown",
      "metadata": {
        "id": "nmcp_RQEA4mu"
      },
      "source": [
        "### C.4 - Table remaining_token_usage"
      ]
    },
    {
      "cell_type": "markdown",
      "metadata": {
        "id": "VgYYEHSHA4mu"
      },
      "source": [
        "The `token` field is used for authentication when interacting with the company’s social media accounts. Each `token` can only be used up to 15 times per day. Create a table named `remaining_token_usage` to store the remaining number of times each token can be used per day, based on the dataset. Example table format:\n",
        "\n",
        "| token | post_date | remaining_quota |\n",
        "| --- | --- | --- |\n",
        "| token_1 | 2025-02-16 | 8 |\n",
        "| token_2 | 2025-02-16 | 1 |\n",
        "| token_3 | 2025-02-16 | 7 |"
      ]
    },
    {
      "cell_type": "code",
      "execution_count": null,
      "metadata": {
        "id": "wgjdu1hFA4mu",
        "outputId": "29c14123-6156-411e-ead9-2f0ced09ed1a"
      },
      "outputs": [
        {
          "data": {
            "text/plain": [
              "[{'post_time': '16/02/2025, 06:28:12', 'conn_info': {'token': '229a6669'}},\n",
              " {'post_time': '16/02/2025, 07:34:18', 'conn_info': {'token': '03f2395f'}},\n",
              " {'post_time': '16/02/2025, 08:07:59', 'conn_info': {'token': '229a6669'}},\n",
              " {'post_time': '16/02/2025, 10:18:11', 'conn_info': {'token': '03f2395f'}},\n",
              " {'post_time': '16/02/2025, 12:51:48', 'conn_info': {'token': '229a6669'}},\n",
              " {'post_time': '16/02/2025, 13:02:44', 'conn_info': {'token': '03f2395f'}},\n",
              " {'post_time': '16/02/2025, 13:03:02', 'conn_info': {'token': '03f2395f'}},\n",
              " {'post_time': '16/02/2025, 13:56:50', 'conn_info': {'token': '03f2395f'}},\n",
              " {'post_time': '16/02/2025, 14:18:27', 'conn_info': {'token': '21b7c13c'}},\n",
              " {'post_time': '16/02/2025, 15:03:35', 'conn_info': {'token': '4eededee'}},\n",
              " {'post_time': '16/02/2025, 15:26:16', 'conn_info': {'token': '229a6669'}},\n",
              " {'post_time': '16/02/2025, 15:36:16', 'conn_info': {'token': '21b7c13c'}},\n",
              " {'post_time': '16/02/2025, 15:48:39', 'conn_info': {'token': '03f2395f'}},\n",
              " {'post_time': '16/02/2025, 17:26:16', 'conn_info': {'token': '4eededee'}},\n",
              " {'post_time': '16/02/2025, 17:29:05', 'conn_info': {'token': '03f2395f'}},\n",
              " {'post_time': '16/02/2025, 18:41:17', 'conn_info': {'token': '03f2395f'}},\n",
              " {'post_time': '16/02/2025, 19:25:25', 'conn_info': {'token': '03f2395f'}},\n",
              " {'post_time': '16/02/2025, 20:53:54', 'conn_info': {'token': '21b7c13c'}},\n",
              " {'post_time': '16/02/2025, 21:00:21', 'conn_info': {'token': '03f2395f'}},\n",
              " {'post_time': '16/02/2025, 21:32:46', 'conn_info': {'token': '03f2395f'}}]"
            ]
          },
          "execution_count": 21,
          "metadata": {},
          "output_type": "execute_result"
        }
      ],
      "source": [
        "# Step 1 : Extract (Find all posts)\n",
        "\n",
        "results = coll_raw_data.find(\n",
        "    {},\n",
        "    {'_id': 0, 'post_time':1, 'conn_info.token': 1})\n",
        "\n",
        "results = list(results)\n",
        "results"
      ]
    },
    {
      "cell_type": "code",
      "execution_count": null,
      "metadata": {
        "id": "auyRhGlxA4mu",
        "outputId": "70187a4c-4714-4cf7-f9cd-673ec0b95cdc"
      },
      "outputs": [
        {
          "data": {
            "text/html": [
              "<div>\n",
              "<style scoped>\n",
              "    .dataframe tbody tr th:only-of-type {\n",
              "        vertical-align: middle;\n",
              "    }\n",
              "\n",
              "    .dataframe tbody tr th {\n",
              "        vertical-align: top;\n",
              "    }\n",
              "\n",
              "    .dataframe thead th {\n",
              "        text-align: right;\n",
              "    }\n",
              "</style>\n",
              "<table border=\"1\" class=\"dataframe\">\n",
              "  <thead>\n",
              "    <tr style=\"text-align: right;\">\n",
              "      <th></th>\n",
              "      <th>token</th>\n",
              "      <th>post_date</th>\n",
              "      <th>remaining_quota</th>\n",
              "    </tr>\n",
              "  </thead>\n",
              "  <tbody>\n",
              "    <tr>\n",
              "      <th>0</th>\n",
              "      <td>03f2395f</td>\n",
              "      <td>2025-02-16</td>\n",
              "      <td>4</td>\n",
              "    </tr>\n",
              "    <tr>\n",
              "      <th>1</th>\n",
              "      <td>21b7c13c</td>\n",
              "      <td>2025-02-16</td>\n",
              "      <td>12</td>\n",
              "    </tr>\n",
              "    <tr>\n",
              "      <th>2</th>\n",
              "      <td>229a6669</td>\n",
              "      <td>2025-02-16</td>\n",
              "      <td>11</td>\n",
              "    </tr>\n",
              "    <tr>\n",
              "      <th>3</th>\n",
              "      <td>4eededee</td>\n",
              "      <td>2025-02-16</td>\n",
              "      <td>13</td>\n",
              "    </tr>\n",
              "  </tbody>\n",
              "</table>\n",
              "</div>"
            ],
            "text/plain": [
              "      token   post_date  remaining_quota\n",
              "0  03f2395f  2025-02-16                4\n",
              "1  21b7c13c  2025-02-16               12\n",
              "2  229a6669  2025-02-16               11\n",
              "3  4eededee  2025-02-16               13"
            ]
          },
          "execution_count": 22,
          "metadata": {},
          "output_type": "execute_result"
        }
      ],
      "source": [
        "# Step 2 : Transform (Get `token` from each document)\n",
        "\n",
        "## Get the unique date and the token\n",
        "token_df = pd.DataFrame(results)\n",
        "token_df['post_time'] = pd.to_datetime(token_df['post_time'], format='%d/%m/%Y, %H:%M:%S')\n",
        "token_df['post_date'] = token_df['post_time'].dt.date\n",
        "token_df['token'] = [row['token'] for row in token_df['conn_info']]\n",
        "\n",
        "## Calculate the usage per day\n",
        "token_usage_df = (\n",
        "    token_df.groupby(['token', 'post_date'])\n",
        "    .size()\n",
        "    .reset_index(name='used_count')\n",
        ")\n",
        "\n",
        "# Maksimum 10 per token per hari\n",
        "token_usage_df['remaining_quota'] = 15 - token_usage_df['used_count']\n",
        "\n",
        "# Final DataFrame\n",
        "remaining_token_usage_df = token_usage_df[['token', 'post_date', 'remaining_quota']]\n",
        "remaining_token_usage_df"
      ]
    },
    {
      "cell_type": "code",
      "execution_count": null,
      "metadata": {
        "id": "cws4H0eXA4mu",
        "outputId": "8ead4369-da36-4a94-c984-0a727a64a108"
      },
      "outputs": [
        {
          "name": "stdout",
          "output_type": "stream",
          "text": [
            "Insert data - row :  0\n",
            "Insert data - row :  1\n",
            "Insert data - row :  2\n",
            "Insert data - row :  3\n"
          ]
        }
      ],
      "source": [
        "# Step 3 : Load (Create `remaining_token_usage` and insert the data)\n",
        "\n",
        "## Create table `remaining_token_usage`\n",
        "cur.execute(\"\"\"\n",
        "    CREATE TABLE IF NOT EXISTS remaining_token_usage (\n",
        "        post_date TIMESTAMP,\n",
        "        token VARCHAR(10),\n",
        "        remaining_quota INTEGER\n",
        "    );\n",
        "\"\"\")\n",
        "\n",
        "## Insert the data\n",
        "for index, row in remaining_token_usage_df.iterrows():\n",
        "    print('Insert data - row : ', index)\n",
        "    cur.execute(\n",
        "        \"\"\"\n",
        "        INSERT INTO remaining_token_usage (post_date, token, remaining_quota)\n",
        "        VALUES (%s, %s, %s)\n",
        "        \"\"\",\n",
        "        (row['post_date'], row['token'], row['remaining_quota']))\n",
        "\n",
        "conn.commit()"
      ]
    },
    {
      "cell_type": "markdown",
      "metadata": {
        "id": "p8pSI-oGA4mv"
      },
      "source": [
        "### C.5 - Close the connection"
      ]
    },
    {
      "cell_type": "code",
      "execution_count": null,
      "metadata": {
        "id": "RHP5XL1HA4mv"
      },
      "outputs": [],
      "source": [
        "# Close the connection\n",
        "\n",
        "cur.close()\n",
        "conn.close()\n",
        "client.close()"
      ]
    }
  ],
  "metadata": {
    "colab": {
      "provenance": [],
      "toc_visible": true
    },
    "kernelspec": {
      "display_name": "base",
      "language": "python",
      "name": "python3"
    },
    "language_info": {
      "codemirror_mode": {
        "name": "ipython",
        "version": 3
      },
      "file_extension": ".py",
      "mimetype": "text/x-python",
      "name": "python",
      "nbconvert_exporter": "python",
      "pygments_lexer": "ipython3",
      "version": "3.9.13"
    }
  },
  "nbformat": 4,
  "nbformat_minor": 0
}